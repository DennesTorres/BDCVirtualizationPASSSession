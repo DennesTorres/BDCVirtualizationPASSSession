{
    "metadata": {
        "kernelspec": {
            "name": "SQL",
            "display_name": "SQL",
            "language": "sql"
        },
        "language_info": {
            "name": "sql",
            "version": ""
        }
    },
    "nbformat_minor": 2,
    "nbformat": 4,
    "cells": [
        {
            "cell_type": "code",
            "source": [
                "Use master\r\n",
                "go\r\n",
                "\r\n",
                "Drop database AdvWorksDW\r\n",
                ""
            ],
            "metadata": {
                "azdata_cell_guid": "9f48a87b-294e-4885-9afb-cd6644545b26"
            },
            "outputs": [
                {
                    "output_type": "display_data",
                    "data": {
                        "text/html": "Commands completed successfully."
                    },
                    "metadata": {}
                },
                {
                    "output_type": "display_data",
                    "data": {
                        "text/html": "Commands completed successfully."
                    },
                    "metadata": {}
                },
                {
                    "output_type": "display_data",
                    "data": {
                        "text/html": "Total execution time: 00:00:00.877"
                    },
                    "metadata": {}
                }
            ],
            "execution_count": 2
        }
    ]
}