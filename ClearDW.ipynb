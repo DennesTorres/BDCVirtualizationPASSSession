{
    "metadata": {
        "kernelspec": {
            "name": "SQL",
            "display_name": "SQL",
            "language": "sql"
        },
        "language_info": {
            "name": "sql",
            "version": ""
        }
    },
    "nbformat_minor": 2,
    "nbformat": 4,
    "cells": [
        {
            "cell_type": "code",
            "source": [
                "drop event session [Queries] on database"
            ],
            "metadata": {
                "azdata_cell_guid": "63eee436-ae33-41f8-908b-f8cb622ea025"
            },
            "outputs": [
                {
                    "output_type": "display_data",
                    "data": {
                        "text/html": "Commands completed successfully."
                    },
                    "metadata": {}
                },
                {
                    "output_type": "display_data",
                    "data": {
                        "text/html": "Total execution time: 00:00:00.025"
                    },
                    "metadata": {}
                }
            ],
            "execution_count": 1
        },
        {
            "cell_type": "code",
            "source": [
                "Drop Database Scoped Credential [https://sqlxe.blob.core.windows.net/xelogfiles]\r\n",
                "\r\n",
                "drop master KEY"
            ],
            "metadata": {
                "azdata_cell_guid": "6cefb15b-2dd9-467c-b65f-a0b28dd9cfa4"
            },
            "outputs": [
                {
                    "output_type": "display_data",
                    "data": {
                        "text/html": "Commands completed successfully."
                    },
                    "metadata": {}
                },
                {
                    "output_type": "display_data",
                    "data": {
                        "text/html": "Total execution time: 00:00:00.018"
                    },
                    "metadata": {}
                }
            ],
            "execution_count": 5
        }
    ]
}