{
    "metadata": {
        "kernelspec": {
            "name": "SQL",
            "display_name": "SQL",
            "language": "sql"
        },
        "language_info": {
            "name": "sql",
            "version": ""
        }
    },
    "nbformat_minor": 2,
    "nbformat": 4,
    "cells": [
        {
            "cell_type": "markdown",
            "source": [
                "##  Creating the Database for the Virtualization"
            ],
            "metadata": {
                "azdata_cell_guid": "2f5cc9b9-b4ec-4fce-95d4-a1a5817457f0"
            }
        },
        {
            "cell_type": "code",
            "source": [
                "CREATE DATABASE AdvWorksDW\r\n",
                "GO\r\n",
                "\r\n",
                "USE AdvWorksDW\r\n",
                "GO\r\n",
                ""
            ],
            "metadata": {
                "azdata_cell_guid": "087aee31-6b5f-47f4-bd03-b4fdb8698732"
            },
            "outputs": [
                {
                    "output_type": "display_data",
                    "data": {
                        "text/html": "Commands completed successfully."
                    },
                    "metadata": {}
                },
                {
                    "output_type": "display_data",
                    "data": {
                        "text/html": "Commands completed successfully."
                    },
                    "metadata": {}
                },
                {
                    "output_type": "display_data",
                    "data": {
                        "text/html": "Total execution time: 00:00:01.697"
                    },
                    "metadata": {}
                }
            ],
            "execution_count": 1
        },
        {
            "cell_type": "markdown",
            "source": [
                "## Creating the Credential to Access the Remote Azure SQL Database"
            ],
            "metadata": {
                "azdata_cell_guid": "e86a14ce-0a01-423b-9644-a231d724dbf5",
                "language": "markdown"
            }
        },
        {
            "cell_type": "code",
            "source": [
                "create master key encryption by password='6964xpahw@@'\r\n",
                "GO\r\n",
                "\r\n",
                "CREATE DATABASE SCOPED CREDENTIAL [AdvDWLogin]\r\n",
                "WITH Identity='Dennes',  \r\n",
                "SECRET = 'Wmhapx4696'\r\n",
                "GO"
            ],
            "metadata": {
                "azdata_cell_guid": "ac64607b-5123-4a44-9c99-9fa1df1e4a87",
                "tags": []
            },
            "outputs": [
                {
                    "output_type": "display_data",
                    "data": {
                        "text/html": "Commands completed successfully."
                    },
                    "metadata": {}
                },
                {
                    "output_type": "display_data",
                    "data": {
                        "text/html": "Commands completed successfully."
                    },
                    "metadata": {}
                },
                {
                    "output_type": "display_data",
                    "data": {
                        "text/html": "Total execution time: 00:00:00.039"
                    },
                    "metadata": {}
                }
            ],
            "execution_count": 2
        },
        {
            "cell_type": "markdown",
            "source": [
                "## Creating the Extenal Data Source pointing to the existing Data Warehouse\n",
                "\n",
                "### **Scale-out groups**\n",
                "\n",
                "A compute pool can act as a PolyBase scale-out group for distributed queries over different external data sources such as SQL Server, Oracle, MongoDB, Teradata and HDFS. By using compute pods in Kubernetes, a SQL Server big data cluster can automate creating and configuring compute pods for PolyBase scale-out groups.\n",
                "\n",
                "## [](https://docs.microsoft.com/en-us/sql/big-data-cluster/concept-compute-pool?view=sql-server-ver15#compute-pool-scenarios)Compute pool scenarios\n",
                "\n",
                "**Scenarios where the compute pool is used include:**\n",
                "\n",
                "-   When queries submitted to the master instance use one or more tables located in the [storage pool](https://docs.microsoft.com/en-us/sql/big-data-cluster/concept-storage-pool?view=sql-server-ver15).\n",
                "    \n",
                "-   When queries submitted to the master instance use one or more tables with round-robin distribution located in the [data pool](https://docs.microsoft.com/en-us/sql/big-data-cluster/concept-data-pool?view=sql-server-ver15).\n",
                "    \n",
                "-   When queries submitted to the master instance use partitioned tables with external data sources of SQL Server, Oracle, MongoDB, and Teradata. For this scenario, the query hint OPTION (FORCE SCALEOUTEXECUTION) must be enabled.\n",
                "    \n",
                "-   When queries submitted to the master instance use one or more tables located in [HDFS tiering](https://docs.microsoft.com/en-us/sql/big-data-cluster/hdfs-tiering?view=sql-server-ver15).\n",
                "    \n",
                "\n",
                "**Scenarios where the compute pool is not used include:**\n",
                "\n",
                "-   When queries submitted to the master instance use one or more tables in an external Hadoop HDFS cluster.\n",
                "    \n",
                "-   When queries submitted to the master instance use one or more tables in Azure Blob Storage.\n",
                "    \n",
                "-   When queries submitted to the master instance use non-partitioned tables with external data sources of SQL Server, Oracle, MongoDB, and Teradata.\n",
                "    \n",
                "-   When the query hint OPTION (DISABLE SCALEOUTEXECUTION) is enabled.\n",
                "    \n",
                "-   When queries submitted to the master instance apply to databases located on the master instance.\n",
                "    \n",
                "\n",
                "  Ref: [How Compute Pools Work](https://docs.microsoft.com/en-us/sql/big-data-cluster/concept-compute-pool?view=sql-server-ver15&WT.mc_id=DP-MVP-4014132)\n",
                "\n",
                "## ![](data:image/png;base64,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)"
            ],
            "metadata": {
                "azdata_cell_guid": "a6569c41-cfbb-475c-b742-dbcb187c3f40"
            }
        },
        {
            "cell_type": "code",
            "source": [
                "CREATE EXTERNAL DATA SOURCE AdventureVirtual\r\n",
                "WITH\r\n",
                "  (  LOCATION = 'sqlserver://bdcextendedsample.database.windows.net'\r\n",
                "     , CREDENTIAL = AdvDWLogin \r\n",
                "     , PUSHDOWN =  ON  \r\n",
                "     )\r\n",
                ""
            ],
            "metadata": {
                "azdata_cell_guid": "1a4bd7ca-5333-4fd0-80f1-95eede60abaf"
            },
            "outputs": [
                {
                    "output_type": "display_data",
                    "data": {
                        "text/html": "Commands completed successfully."
                    },
                    "metadata": {}
                },
                {
                    "output_type": "display_data",
                    "data": {
                        "text/html": "Total execution time: 00:00:00.103"
                    },
                    "metadata": {}
                }
            ],
            "execution_count": 3
        },
        {
            "cell_type": "markdown",
            "source": [
                "# Creating External Tables\n",
                "\n",
                "We use the data source and credentials already created to create the external tables. \n",
                "\n",
                "Maybe, in the future, the syntax will spare us from specifying all the fields for each table, at least for some data sources."
            ],
            "metadata": {
                "azdata_cell_guid": "58a68f29-55ff-4d06-80de-e40f011e1960"
            }
        },
        {
            "cell_type": "code",
            "source": [
                "CREATE EXTERNAL TABLE [dbo].[FactInternetSales](\r\n",
                "\t[ProductKey] [int] NOT NULL,\r\n",
                "\t[OrderDateKey] [int] NOT NULL,\r\n",
                "\t[DueDateKey] [int] NOT NULL,\r\n",
                "\t[ShipDateKey] [int] NOT NULL,\r\n",
                "\t[CustomerKey] [int] NOT NULL,\r\n",
                "\t[PromotionKey] [int] NOT NULL,\r\n",
                "\t[CurrencyKey] [int] NOT NULL,\r\n",
                "\t[SalesTerritoryKey] [int] NOT NULL,\r\n",
                "\t[SalesOrderNumber] [nvarchar](20) NOT NULL,\r\n",
                "\t[SalesOrderLineNumber] [tinyint] NOT NULL,\r\n",
                "\t[RevisionNumber] [tinyint] NOT NULL,\r\n",
                "\t[OrderQuantity] [smallint] NOT NULL,\r\n",
                "\t[UnitPrice] [money] NOT NULL,\r\n",
                "\t[ExtendedAmount] [money] NOT NULL,\r\n",
                "\t[UnitPriceDiscountPct] [float] NOT NULL,\r\n",
                "\t[DiscountAmount] [float] NOT NULL,\r\n",
                "\t[ProductStandardCost] [money] NOT NULL,\r\n",
                "\t[TotalProductCost] [money] NOT NULL,\r\n",
                "\t[SalesAmount] [money] NOT NULL,\r\n",
                "\t[TaxAmt] [money] NOT NULL,\r\n",
                "\t[Freight] [money] NOT NULL,\r\n",
                "\t[CarrierTrackingNumber] [nvarchar](25) NULL,\r\n",
                "\t[CustomerPONumber] [nvarchar](25) NULL,\r\n",
                "\t[OrderDate] [datetime] NULL,\r\n",
                "\t[DueDate] [datetime] NULL,\r\n",
                "\t[ShipDate] [datetime] NULL\r\n",
                ") \r\n",
                "    WITH (   \r\n",
                "        LOCATION = 'AdventureWorksDW2016.dbo.FactInternetSales',  \r\n",
                "        DATA_SOURCE = AdventureVirtual\r\n",
                "    )  \r\n",
                "GO\r\n",
                "\r\n",
                "CREATE EXTERNAL TABLE [dbo].[DimCustomer](\r\n",
                "\t[CustomerKey] [int]  NOT NULL,\r\n",
                "\t[GeographyKey] [int] NULL,\r\n",
                "\t[CustomerAlternateKey] [nvarchar](15) NOT NULL,\r\n",
                "\t[Title] [nvarchar](8) NULL,\r\n",
                "\t[FirstName] [nvarchar](50) NULL,\r\n",
                "\t[MiddleName] [nvarchar](50) NULL,\r\n",
                "\t[LastName] [nvarchar](50) NULL,\r\n",
                "\t[NameStyle] [bit] NULL,\r\n",
                "\t[BirthDate] [date] NULL,\r\n",
                "\t[MaritalStatus] [nchar](1) NULL,\r\n",
                "\t[Suffix] [nvarchar](10) NULL,\r\n",
                "\t[Gender] [nvarchar](1) NULL,\r\n",
                "\t[EmailAddress] [nvarchar](50) NULL,\r\n",
                "\t[YearlyIncome] [money] NULL,\r\n",
                "\t[TotalChildren] [tinyint] NULL,\r\n",
                "\t[NumberChildrenAtHome] [tinyint] NULL,\r\n",
                "\t[EnglishEducation] [nvarchar](40) NULL,\r\n",
                "\t[SpanishEducation] [nvarchar](40) NULL,\r\n",
                "\t[FrenchEducation] [nvarchar](40) NULL,\r\n",
                "\t[EnglishOccupation] [nvarchar](100) NULL,\r\n",
                "\t[SpanishOccupation] [nvarchar](100) NULL,\r\n",
                "\t[FrenchOccupation] [nvarchar](100) NULL,\r\n",
                "\t[HouseOwnerFlag] [nchar](1) NULL,\r\n",
                "\t[NumberCarsOwned] [tinyint] NULL,\r\n",
                "\t[AddressLine1] [nvarchar](120) NULL,\r\n",
                "\t[AddressLine2] [nvarchar](120) NULL,\r\n",
                "\t[Phone] [nvarchar](20) NULL,\r\n",
                "\t[DateFirstPurchase] [date] NULL,\r\n",
                "\t[CommuteDistance] [nvarchar](15) NULL \r\n",
                ")\r\n",
                "   WITH (   \r\n",
                "        LOCATION = 'AdventureWorksDW2016.dbo.DimCustomer',  \r\n",
                "        DATA_SOURCE = AdventureVirtual\r\n",
                "    )  \r\n",
                "GO\r\n",
                "\r\n",
                "CREATE EXTERNAL TABLE [dbo].[FactProductInventory](\r\n",
                "\t[ProductKey] [int] NOT NULL,\r\n",
                "\t[DateKey] [int] NOT NULL,\r\n",
                "\t[MovementDate] [date] NOT NULL,\r\n",
                "\t[UnitCost] [money] NOT NULL,\r\n",
                "\t[UnitsIn] [int] NOT NULL,\r\n",
                "\t[UnitsOut] [int] NOT NULL,\r\n",
                "\t[UnitsBalance] [int] NOT NULL\r\n",
                "\r\n",
                ")   WITH (   \r\n",
                "        LOCATION = 'AdventureWorksDW2016.dbo.FactProductInventory',  \r\n",
                "        DATA_SOURCE = AdventureVirtual\r\n",
                "    ) \r\n",
                "GO\r\n",
                "\r\n",
                "\r\n",
                "\r\n",
                ""
            ],
            "metadata": {
                "azdata_cell_guid": "7ffb7644-6da6-42ed-ab0a-84d1faa52add"
            },
            "outputs": [
                {
                    "output_type": "display_data",
                    "data": {
                        "text/html": "Commands completed successfully."
                    },
                    "metadata": {}
                },
                {
                    "output_type": "display_data",
                    "data": {
                        "text/html": "Commands completed successfully."
                    },
                    "metadata": {}
                },
                {
                    "output_type": "display_data",
                    "data": {
                        "text/html": "Commands completed successfully."
                    },
                    "metadata": {}
                },
                {
                    "output_type": "display_data",
                    "data": {
                        "text/html": "Total execution time: 00:00:00.454"
                    },
                    "metadata": {}
                }
            ],
            "execution_count": 4
        },
        {
            "cell_type": "markdown",
            "source": [
                "## **Non-Distributed Query**\n",
                "\n",
                "This query is to another SQL Server. Without using the query hint, it will not be distributed to the Compute pool, according the explanation above on this file.\n",
                "\n",
                "The following executions prove this concept"
            ],
            "metadata": {
                "azdata_cell_guid": "507af812-fd36-45b5-b625-e119529c8755"
            }
        },
        {
            "cell_type": "code",
            "source": [
                "select count(*) from dbo.FactInternetSales\r\n",
                ""
            ],
            "metadata": {
                "azdata_cell_guid": "ec57186c-0b37-4dcd-878b-4961643fdfa1",
                "tags": [
                    "hide_input"
                ]
            },
            "outputs": [],
            "execution_count": null
        },
        {
            "cell_type": "markdown",
            "source": [
                "##  **Analyzing the Query Execution**"
            ],
            "metadata": {
                "azdata_cell_guid": "289c2779-6389-40fb-955f-23096454e403"
            }
        },
        {
            "cell_type": "markdown",
            "source": [
                "### **Compute Pools**\n",
                "\n",
                "On this example we have 1 single pool with 1 node making the role of **Head** and **Compute**. Each pool have one Head and many Compute nodes.\n",
                "\n",
                "The **Master** node is a **Compute** node as well, but without any pool registered, the pool id is considered 0 and it will be used when SQL Server decides to not use the compute pools, only the **Master**."
            ],
            "metadata": {
                "azdata_cell_guid": "ec50277d-7785-49b1-bb2c-7ff0f8b5b573"
            }
        },
        {
            "cell_type": "code",
            "source": [
                "select cn.compute_pool_id,compute_node_id,\r\n",
                "        type,cn.name, location from sys.dm_exec_compute_pools cp\r\n",
                "right outer join sys.dm_exec_compute_nodes cn\r\n",
                "on cp.compute_pool_id=cn.compute_pool_id"
            ],
            "metadata": {
                "azdata_cell_guid": "df029d48-4346-47d2-8a0d-e280d5202f56",
                "tags": []
            },
            "outputs": [],
            "execution_count": null
        },
        {
            "cell_type": "markdown",
            "source": [
                "**Getting the Execution Id**"
            ],
            "metadata": {
                "azdata_cell_guid": "f7a7de3d-e69e-4c01-a64a-b7ba1ef19c05"
            }
        },
        {
            "cell_type": "code",
            "source": [
                "select top 8 execution_id, status, start_time,end_time,\r\n",
                "            compute_pool_id, text,dbid \r\n",
                " from sys.dm_exec_distributed_requests\r\n",
                "cross apply sys.dm_exec_sql_text(sql_handle) st\r\n",
                "order by start_time desc"
            ],
            "metadata": {
                "azdata_cell_guid": "711b57a5-9cea-4900-a045-6357fae84794"
            },
            "outputs": [],
            "execution_count": null
        },
        {
            "cell_type": "markdown",
            "source": [
                "### **Identifying the Steps Executed**\n",
                "\n",
                "On this example, there was no scale out, so the compute pool is 0 - the execution was in the master\n",
                "\n",
                "**Location Types**\n",
                "\n",
                "* **Head:** Head of the Compute Pool\n",
                "\n",
                "* **Compute:** Node of the Compute Pool\n",
                "\n",
                "* **DMS:** Data Movement Service - External Polybase Service"
            ],
            "metadata": {
                "azdata_cell_guid": "e6c569c5-0f43-4b8d-ba17-5419c17e97c0"
            }
        },
        {
            "cell_type": "code",
            "source": [
                "select execution_id,step_index, operation_type,\r\n",
                "        distribution_type, location_type,\r\n",
                "        row_count,command,\r\n",
                "        compute_pool_id, status\r\n",
                " from sys.dm_exec_distributed_request_steps\r\n",
                "where execution_id='QID781'\r\n",
                "order by step_index"
            ],
            "metadata": {
                "azdata_cell_guid": "76d75991-97b6-4350-a34c-7e17c1f910f2"
            },
            "outputs": [],
            "execution_count": null
        },
        {
            "cell_type": "markdown",
            "source": [
                " **DMS**\n",
                "\n",
                "The first DMS step is broke down in 16 pieces, 8 external reads and 8 writes on the compute nodes\n",
                "\n",
                "However, if you notice the start and end time of the EXTERNAL\\_READER you will notice only the first one were executed. Something similar also happens with the writer, however, the writer uses CPU on the compute node, the EXTERNAL\\_READER doesn't consume remote resource"
            ],
            "metadata": {
                "azdata_cell_guid": "37b4b55f-e510-42bc-9f3d-b924e5192952"
            }
        },
        {
            "cell_type": "code",
            "source": [
                "select execution_id, step_index,dms_step_index \r\n",
                "        , [type],\r\n",
                "        compute_pool_id,query_time,\r\n",
                "        [status],rows_processed,source_info,destination_info\r\n",
                " from sys.dm_exec_dms_workers\r\n",
                "where execution_id='QID781' and step_index=2\r\n",
                "order by dms_step_index"
            ],
            "metadata": {
                "azdata_cell_guid": "d5f76c88-5836-433a-8d0c-ccd6c267780a",
                "tags": []
            },
            "outputs": [],
            "execution_count": null
        },
        {
            "cell_type": "markdown",
            "source": [
                " **DMS Step 2**\n",
                "\n",
                "The 2nd DMS step summarizes and return the result, in two tasks"
            ],
            "metadata": {
                "azdata_cell_guid": "1a20a871-8d46-4d06-adc3-bff3e16b2045"
            }
        },
        {
            "cell_type": "code",
            "source": [
                "select execution_id, step_index,dms_step_index,\r\n",
                "         [type], compute_pool_id,\r\n",
                "        [status],rows_processed,source_info,destination_info\r\n",
                "from sys.dm_exec_dms_workers\r\n",
                "where execution_id='QID781' and step_index=3"
            ],
            "metadata": {
                "azdata_cell_guid": "aef10d43-c06a-4736-96e2-1669e3dc9b6a"
            },
            "outputs": [],
            "execution_count": null
        },
        {
            "cell_type": "markdown",
            "source": [
                "##  **Partitioned non-distributed query**\n",
                "\n",
                "The query below once again will not use the compute node. However, the target table is partitioned, so the query will be broke down in as much steps as the number of partitions plus 1"
            ],
            "metadata": {
                "azdata_cell_guid": "692bd024-6852-476b-b932-524494160f8e"
            }
        },
        {
            "cell_type": "code",
            "source": [
                "select count(*) from dbo.FactProductInventory"
            ],
            "metadata": {
                "azdata_cell_guid": "d875d7ff-9eb6-42a0-80de-91894b99f855"
            },
            "outputs": [],
            "execution_count": null
        },
        {
            "cell_type": "code",
            "source": [
                "select top 8 execution_id, status, start_time,end_time,\r\n",
                "            compute_pool_id, text,dbid \r\n",
                " from sys.dm_exec_distributed_requests\r\n",
                "cross apply sys.dm_exec_sql_text(sql_handle) st\r\n",
                "order by start_time desc"
            ],
            "metadata": {
                "azdata_cell_guid": "041a53d3-6b45-42e4-9a47-5a0db8e95754"
            },
            "outputs": [],
            "execution_count": null
        },
        {
            "cell_type": "code",
            "source": [
                "select execution_id,step_index, operation_type,\r\n",
                "        distribution_type, location_type,\r\n",
                "        row_count,command,\r\n",
                "        compute_pool_id, status\r\n",
                " from sys.dm_exec_distributed_request_steps\r\n",
                "where execution_id='QID802'\r\n",
                "order by step_index"
            ],
            "metadata": {
                "azdata_cell_guid": "16717f0a-6af2-4f62-933a-879babf25e06"
            },
            "outputs": [],
            "execution_count": null
        },
        {
            "cell_type": "markdown",
            "source": [
                " **DMS Step 2 Partitioned**\n",
                "\n",
                "This time 6 or the EXTERNAL\\_READER steps were really executed, because the target table has 6 partitions"
            ],
            "metadata": {
                "azdata_cell_guid": "d53a1954-73b3-4f60-bc54-b3cc00b52335"
            }
        },
        {
            "cell_type": "code",
            "source": [
                "select execution_id, step_index,dms_step_index,\r\n",
                "         [type], compute_pool_id,\r\n",
                "        [status],rows_processed,source_info,destination_info\r\n",
                "from sys.dm_exec_dms_workers\r\n",
                "where execution_id='QID802' and step_index=2\r\n",
                "order by dms_step_index"
            ],
            "metadata": {
                "azdata_cell_guid": "53ebcefe-26d5-4099-857e-5b68237a7aef",
                "tags": []
            },
            "outputs": [],
            "execution_count": null
        },
        {
            "cell_type": "code",
            "source": [
                "select execution_id, step_index,dms_step_index,\r\n",
                "         [type], compute_pool_id,\r\n",
                "        [status],rows_processed,source_info,destination_info\r\n",
                "from sys.dm_exec_dms_workers\r\n",
                "where execution_id='QID802' and step_index=3"
            ],
            "metadata": {
                "azdata_cell_guid": "a0397440-d14e-42d4-834b-811e15d66207"
            },
            "outputs": [],
            "execution_count": null
        },
        {
            "cell_type": "markdown",
            "source": [
                "## **Partitioned Scaled Out Execution**\n",
                "\n",
                "Using SQL, the Scale Out only happens if the destination is partitioned and the hint is used. The rules are above in this notebook.\n",
                "\n",
                "This time the Compute Pool is 1, not 0."
            ],
            "metadata": {
                "azdata_cell_guid": "c6722307-42e9-4386-b16a-aa8db7bec4d1"
            }
        },
        {
            "cell_type": "code",
            "source": [
                "select count(*) from dbo.FactProductInventory\r\n",
                "OPTION (FORCE SCALEOUTEXECUTION)"
            ],
            "metadata": {
                "azdata_cell_guid": "81cc5eb7-b2ed-41ab-a4fc-0dbde13338de"
            },
            "outputs": [],
            "execution_count": null
        },
        {
            "cell_type": "code",
            "source": [
                "select top 8 execution_id, status, start_time,end_time,\r\n",
                "            compute_pool_id, text,dbid \r\n",
                " from sys.dm_exec_distributed_requests\r\n",
                "cross apply sys.dm_exec_sql_text(sql_handle) st\r\n",
                "order by start_time desc"
            ],
            "metadata": {
                "azdata_cell_guid": "200b36cd-0be8-43ef-afa2-e4a71785861d"
            },
            "outputs": [],
            "execution_count": null
        },
        {
            "cell_type": "markdown",
            "source": [
                " **Steps for Scale Out**\n",
                "\n",
                "Due to the scale out, there is one DMS step less than without the scale out. The return operation is made by the compute nodes"
            ],
            "metadata": {
                "azdata_cell_guid": "e1853499-c63e-4c03-8a47-3027a27451ce"
            }
        },
        {
            "cell_type": "code",
            "source": [
                "select execution_id,step_index, operation_type\r\n",
                "        distribution_type, location_type\r\n",
                "        row_count,command,\r\n",
                "        compute_pool_id, status\r\n",
                " from sys.dm_exec_distributed_request_steps\r\n",
                "where execution_id='QID692'\r\n",
                "order by step_index"
            ],
            "metadata": {
                "azdata_cell_guid": "132c03e3-ae4f-43ec-998e-8ae51605870b",
                "tags": []
            },
            "outputs": [],
            "execution_count": null
        },
        {
            "cell_type": "code",
            "source": [
                "select execution_id, step_index,dms_step_index,\r\n",
                "         [type], compute_pool_id,\r\n",
                "        [status],rows_processed,source_info,destination_info\r\n",
                "from sys.dm_exec_dms_workers\r\n",
                "where execution_id='QID692' and step_index=2"
            ],
            "metadata": {
                "azdata_cell_guid": "0af749f9-fe79-4482-a061-6a1e1d7f830b"
            },
            "outputs": [],
            "execution_count": null
        },
        {
            "cell_type": "markdown",
            "source": [
                " **Compute Steps**\n",
                "\n",
                "Compute Steps register their sub-steps on the DMV sys.dm\\_exec\\_distributed\\_sql\\_requests"
            ],
            "metadata": {
                "azdata_cell_guid": "7bd5c8ee-573b-4f05-9f48-980673fee699"
            }
        },
        {
            "cell_type": "code",
            "source": [
                "select execution_id, step_index,\r\n",
                "        compute_pool_id, [status],row_count,command\r\n",
                "from sys.dm_exec_distributed_sql_requests\r\n",
                "where execution_id='QID692' and step_index=3\r\n",
                "order by step_index\r\n",
                "\r\n",
                "\r\n",
                ""
            ],
            "metadata": {
                "azdata_cell_guid": "530a3487-c588-41b2-a312-981e5e0e633a",
                "tags": []
            },
            "outputs": [],
            "execution_count": null
        },
        {
            "cell_type": "markdown",
            "source": [
                "## **Some Practical Result**"
            ],
            "metadata": {
                "azdata_cell_guid": "66801011-899c-4db9-b31d-b32087b66d72"
            }
        },
        {
            "cell_type": "code",
            "source": [
                "select Year(orderdate) [Year],count(*) as total from factinternetsales\r\n",
                "group by Year(OrderDate)"
            ],
            "metadata": {
                "azdata_cell_guid": "c659c54a-4a2e-4fd5-9634-702dd7a48506"
            },
            "outputs": [],
            "execution_count": null
        }
    ]
}