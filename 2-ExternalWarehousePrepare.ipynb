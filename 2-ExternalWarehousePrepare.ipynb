{
    "metadata": {
        "kernelspec": {
            "name": "SQL",
            "display_name": "SQL",
            "language": "sql"
        },
        "language_info": {
            "name": "sql",
            "version": ""
        }
    },
    "nbformat_minor": 2,
    "nbformat": 4,
    "cells": [
        {
            "cell_type": "markdown",
            "source": [
                "##  **Creating the credential to access the Storage Account**\n",
                "\n",
                "The credential name is the URL to the storage account. This will stablish the link between the credential and the XE Target\n",
                "\n",
                "Ref: [Creating Credentials](https://docs.microsoft.com/en-us/sql/t-sql/statements/create-database-scoped-credential-transact-sql?view=sql-server-ver15&WT.mc_id=DP-MVP-4014132)"
            ],
            "metadata": {
                "azdata_cell_guid": "ce5114da-efc0-4e47-aac8-0aec83ddfbcc"
            }
        },
        {
            "cell_type": "code",
            "source": [
                "create master key encryption by password='6964xpahw@@'\r\n",
                "GO\r\n",
                "\r\n",
                "CREATE DATABASE SCOPED CREDENTIAL [https://sqlxe.blob.core.windows.net/xelogfiles/LoadingLogs]\r\n",
                "WITH IDENTITY='SHARED ACCESS SIGNATURE'\r\n",
                ", SECRET = 'sv=2019-12-12&ss=bfqt&srt=sco&sp=rwdlacupx&se=2021-09-05T23:51:34Z&st=2020-11-04T16:51:34Z&spr=https&sig=lnN1um%2FEt2iJwHVLa%2FtvLgig38dBYHKbAtmFsdQMF8Q%3D'\r\n",
                "GO\r\n",
                "\r\n",
                "CREATE DATABASE SCOPED CREDENTIAL [https://sqlxe.blob.core.windows.net/xelogfiles]\r\n",
                "WITH IDENTITY='SHARED ACCESS SIGNATURE'\r\n",
                ", SECRET = 'sv=2019-12-12&ss=bfqt&srt=sco&sp=rwdlacupx&se=2021-09-05T23:51:34Z&st=2020-11-04T16:51:34Z&spr=https&sig=lnN1um%2FEt2iJwHVLa%2FtvLgig38dBYHKbAtmFsdQMF8Q%3D'\r\n",
                "GO"
            ],
            "metadata": {
                "azdata_cell_guid": "fb6885c0-f8f3-457e-8f94-892c4e03cc5c"
            },
            "outputs": [
                {
                    "output_type": "error",
                    "evalue": "Msg 15578, Level 16, State 1, Line 1\r\nThere is already a master key in the database. Please drop it before performing this statement.",
                    "ename": "",
                    "traceback": []
                },
                {
                    "output_type": "display_data",
                    "data": {
                        "text/html": "Commands completed successfully."
                    },
                    "metadata": {}
                },
                {
                    "output_type": "display_data",
                    "data": {
                        "text/html": "Commands completed successfully."
                    },
                    "metadata": {}
                },
                {
                    "output_type": "display_data",
                    "data": {
                        "text/html": "Total execution time: 00:00:00.029"
                    },
                    "metadata": {}
                }
            ],
            "execution_count": 18
        },
        {
            "cell_type": "code",
            "source": [
                "drop event session queries"
            ],
            "metadata": {
                "azdata_cell_guid": "82319ce2-d661-4514-bae7-74a1af615fb9"
            },
            "outputs": [
                {
                    "output_type": "error",
                    "evalue": "Msg 102, Level 15, State 1, Line 1\r\nIncorrect syntax near 'queries'.",
                    "ename": "",
                    "traceback": []
                },
                {
                    "output_type": "display_data",
                    "data": {
                        "text/html": "Total execution time: 00:00:00.007"
                    },
                    "metadata": {}
                }
            ],
            "execution_count": 17
        },
        {
            "cell_type": "markdown",
            "source": [
                "##  **Creating Extended Events Session**\n",
                "\n",
                "Ref: [Extended Events With Azure SQL](https://docs.microsoft.com/en-us/azure/azure-sql/database/xevent-db-diff-from-svr?WT.mc\\_id=DP-MVP-4014132)"
            ],
            "metadata": {
                "azdata_cell_guid": "3649cf0f-f687-4b59-a9e9-5cf136701d07"
            }
        },
        {
            "cell_type": "code",
            "source": [
                "CREATE EVENT SESSION [Queries] ON DATABASE \r\n",
                "ADD EVENT sqlserver.rpc_completed(SET collect_statement=(1)\r\n",
                "    ACTION(sqlserver.database_name)),\r\n",
                "ADD EVENT sqlserver.rpc_starting(\r\n",
                "    ACTION(sqlserver.database_name)),\r\n",
                "ADD EVENT sqlserver.sql_statement_completed(\r\n",
                "    ACTION(sqlserver.database_name)),\r\n",
                "ADD EVENT sqlserver.sql_statement_starting(\r\n",
                "    ACTION(sqlserver.database_name))\r\n",
                "ADD TARGET package0.event_file(SET filename=N'https://sqlxe.blob.core.windows.net/xelogfiles/LoadingLogs/Logs.xel',max_file_size=(10))\r\n",
                "WITH (MAX_MEMORY=4096 KB,EVENT_RETENTION_MODE=ALLOW_SINGLE_EVENT_LOSS,MAX_DISPATCH_LATENCY=30 SECONDS,MAX_EVENT_SIZE=0 KB,MEMORY_PARTITION_MODE=NONE,TRACK_CAUSALITY=OFF,STARTUP_STATE=ON)\r\n",
                "GO\r\n",
                "\r\n",
                "Alter Event Session [Queries] on database state=start\r\n",
                "go"
            ],
            "metadata": {
                "azdata_cell_guid": "2bb79f13-29ee-49d0-af83-b57d3af6b140"
            },
            "outputs": [
                {
                    "output_type": "display_data",
                    "data": {
                        "text/html": "Commands completed successfully."
                    },
                    "metadata": {}
                },
                {
                    "output_type": "display_data",
                    "data": {
                        "text/html": "Commands completed successfully."
                    },
                    "metadata": {}
                },
                {
                    "output_type": "display_data",
                    "data": {
                        "text/html": "Total execution time: 00:00:00.104"
                    },
                    "metadata": {}
                }
            ],
            "execution_count": 20
        },
        {
            "cell_type": "markdown",
            "source": [
                "##  **Querying the Extended Events**\n",
                "\n",
                "On this first example, if made on the planned order, this query will show a direct count executed over the table, illustrating a **pushdown**"
            ],
            "metadata": {
                "azdata_cell_guid": "b4a78408-2b50-4694-bf95-cd842ddfe722"
            }
        },
        {
            "cell_type": "code",
            "source": [
                "with qry as \r\n",
                "(select \r\n",
                "theNodes.event_data.value('(@name)[1]','nvarchar(max)') as [EventName],\r\n",
                "theNodes.event_data.value('(@timestamp)[1]','datetime') as [Date],\r\n",
                "theNodes.event_data.value('(action[@name=\"database_name\"]/value)[1]','nvarchar(max)') as database_name,\r\n",
                "theNodes.event_data.value('(data[@name=\"cpu_time\"]/value)[1]','bigint') as cpu,\r\n",
                "theNodes.event_data.value('(data[@name=\"duration\"]/value)[1]','bigint') as duration,\r\n",
                "theNodes.event_data.value('(data[@name=\"physical_reads\"]/value)[1]','bigint') as reads,\r\n",
                "theNodes.event_data.value('(data[@name=\"writes\"]/value)[1]','bigint') as writes,\r\n",
                "theNodes.event_data.value('(data[@name=\"statement\"]/value)[1]','nvarchar(max)') as statement,\r\n",
                "theNodes.event_data.value('(data[@name=\"batch_text\"]/value)[1]','nvarchar(max)') as batch_text\r\n",
                "from\r\n",
                "(SELECT         \r\n",
                "        CAST(event_data AS XML) AS [event_data]  -- TODO: In ssms.exe results grid, double-click this cell!\r\n",
                "    FROM\r\n",
                "        sys.fn_xe_file_target_read_file\r\n",
                "            (\r\n",
                "                -- TODO: Fill in Storage Account name, and the associated Container name.\r\n",
                "                -- TODO: The name of the .xel file needs to be an exact match to the files in the storage account Container (You can use Storage Account explorer from the portal to find out the exact file names or you can retrieve the name using the following DMV-query: select target_data from sys.dm_xe_database_session_targets. The 3rd xml-node, \"File name\", contains the name of the file currently written to.)\r\n",
                "                'https://sqlxe.blob.core.windows.net/xelogfiles/LoadingLogs/Logs_0_132489132692850000.xel',\r\n",
                "                null,null , null\r\n",
                "            )) as theData\r\n",
                " cross apply theData.event_data.nodes('//event') theNodes(event_data) )\r\n",
                " select * from qry\r\n",
                " where statement like '%FactInternetSales%' or batch_text like '%FactInternetSales%'\r\n",
                " order by [Date] desc\r\n",
                ""
            ],
            "metadata": {
                "azdata_cell_guid": "14dd3af9-ac0b-4639-9467-d68f12457b7f"
            },
            "outputs": [],
            "execution_count": null
        },
        {
            "cell_type": "markdown",
            "source": [
                "## **2nd Extended Events Check**\n",
                "\n",
                "This time the count was broke down by partitions. Polybase manage to make the pushdown by partitions if the destination table is partitioned."
            ],
            "metadata": {
                "azdata_cell_guid": "3bf108f9-583b-49ad-aa57-33e803b97b6d"
            }
        },
        {
            "cell_type": "code",
            "source": [
                "with qry as \r\n",
                "(select \r\n",
                "theNodes.event_data.value('(@name)[1]','nvarchar(max)') as [EventName],\r\n",
                "theNodes.event_data.value('(@timestamp)[1]','datetime') as [Date],\r\n",
                "theNodes.event_data.value('(action[@name=\"database_name\"]/value)[1]','nvarchar(max)') as database_name,\r\n",
                "theNodes.event_data.value('(data[@name=\"cpu_time\"]/value)[1]','bigint') as cpu,\r\n",
                "theNodes.event_data.value('(data[@name=\"duration\"]/value)[1]','bigint') as duration,\r\n",
                "theNodes.event_data.value('(data[@name=\"physical_reads\"]/value)[1]','bigint') as reads,\r\n",
                "theNodes.event_data.value('(data[@name=\"writes\"]/value)[1]','bigint') as writes,\r\n",
                "theNodes.event_data.value('(data[@name=\"statement\"]/value)[1]','nvarchar(max)') as statement,\r\n",
                "theNodes.event_data.value('(data[@name=\"batch_text\"]/value)[1]','nvarchar(max)') as batch_text\r\n",
                "from\r\n",
                "(SELECT         \r\n",
                "        CAST(event_data AS XML) AS [event_data]  -- TODO: In ssms.exe results grid, double-click this cell!\r\n",
                "    FROM\r\n",
                "        sys.fn_xe_file_target_read_file\r\n",
                "            (\r\n",
                "                -- TODO: Fill in Storage Account name, and the associated Container name.\r\n",
                "                -- TODO: The name of the .xel file needs to be an exact match to the files in the storage account Container (You can use Storage Account explorer from the portal to find out the exact file names or you can retrieve the name using the following DMV-query: select target_data from sys.dm_xe_database_session_targets. The 3rd xml-node, \"File name\", contains the name of the file currently written to.)\r\n",
                "                'https://sqlxe.blob.core.windows.net/xelogfiles/LoadingLogs/Logs_0_132489132692850000.xel',\r\n",
                "                null,null , null\r\n",
                "            )) as theData\r\n",
                " cross apply theData.event_data.nodes('//event') theNodes(event_data) )\r\n",
                " select * from qry\r\n",
                " where statement like '%FactProductInventory%' or batch_text like '%FactProductInventory%'\r\n",
                " order by [Date] desc"
            ],
            "metadata": {
                "azdata_cell_guid": "f199fe30-324b-4d9d-a60e-e25ecc7bee91"
            },
            "outputs": [],
            "execution_count": null
        }
    ]
}